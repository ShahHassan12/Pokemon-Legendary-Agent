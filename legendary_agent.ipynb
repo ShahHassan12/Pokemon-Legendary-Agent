{
 "cells": [
  {
   "cell_type": "code",
   "execution_count": 68,
   "id": "048fa0f2",
   "metadata": {},
   "outputs": [
    {
     "ename": "ModuleNotFoundError",
     "evalue": "No module named 'sleep'",
     "output_type": "error",
     "traceback": [
      "\u001b[31m---------------------------------------------------------------------------\u001b[39m",
      "\u001b[31mModuleNotFoundError\u001b[39m                       Traceback (most recent call last)",
      "\u001b[36mCell\u001b[39m\u001b[36m \u001b[39m\u001b[32mIn[68]\u001b[39m\u001b[32m, line 10\u001b[39m\n\u001b[32m      8\u001b[39m \u001b[38;5;28;01mfrom\u001b[39;00m\u001b[38;5;250m \u001b[39m\u001b[34;01mselenium\u001b[39;00m\u001b[34;01m.\u001b[39;00m\u001b[34;01mwebdriver\u001b[39;00m\u001b[34;01m.\u001b[39;00m\u001b[34;01msupport\u001b[39;00m\u001b[38;5;250m \u001b[39m\u001b[38;5;28;01mimport\u001b[39;00m expected_conditions \u001b[38;5;28;01mas\u001b[39;00m EC\n\u001b[32m      9\u001b[39m \u001b[38;5;28;01mfrom\u001b[39;00m\u001b[38;5;250m \u001b[39m\u001b[34;01mwebdriver_manager\u001b[39;00m\u001b[34;01m.\u001b[39;00m\u001b[34;01mchrome\u001b[39;00m\u001b[38;5;250m \u001b[39m\u001b[38;5;28;01mimport\u001b[39;00m ChromeDriverManager\n\u001b[32m---> \u001b[39m\u001b[32m10\u001b[39m \u001b[38;5;28;01mimport\u001b[39;00m\u001b[38;5;250m \u001b[39m\u001b[34;01msleep\u001b[39;00m\n\u001b[32m     13\u001b[39m \u001b[38;5;28;01mdef\u001b[39;00m\u001b[38;5;250m \u001b[39m\u001b[34mlogin_pokemon_vortex\u001b[39m(username: \u001b[38;5;28mstr\u001b[39m, password: \u001b[38;5;28mstr\u001b[39m, headless: \u001b[38;5;28mbool\u001b[39m = \u001b[38;5;28;01mFalse\u001b[39;00m, timeout: \u001b[38;5;28mint\u001b[39m = \u001b[32m15\u001b[39m):\n\u001b[32m     14\u001b[39m     options = Options()\n",
      "\u001b[31mModuleNotFoundError\u001b[39m: No module named 'sleep'"
     ]
    }
   ],
   "source": [
    "import os\n",
    "from getpass import getpass\n",
    "from selenium import webdriver\n",
    "from selenium.webdriver.common.by import By\n",
    "from selenium.webdriver.chrome.service import Service\n",
    "from selenium.webdriver.chrome.options import Options\n",
    "from selenium.webdriver.support.ui import WebDriverWait\n",
    "from selenium.webdriver.support import expected_conditions as EC\n",
    "from webdriver_manager.chrome import ChromeDriverManager\n",
    "import sleep\n",
    "\n",
    "\n",
    "def login_pokemon_vortex(username: str, password: str, headless: bool = False, timeout: int = 15):\n",
    "    options = Options()\n",
    "    if headless:\n",
    "        options.add_argument(\"--headless=new\")\n",
    "        options.add_argument(\"--disable-gpu\")\n",
    "    options.add_argument(\"--no-sandbox\")\n",
    "    options.add_argument(\"--disable-dev-shm-usage\")\n",
    "\n",
    "    service = Service(ChromeDriverManager().install())\n",
    "    driver = webdriver.Chrome(service=service, options=options)\n",
    "    wait = WebDriverWait(driver, timeout)\n",
    "\n",
    "    try:\n",
    "        # Open login page\n",
    "        driver.get(\"https://www.pokemon-vortex.com/login.php\")\n",
    "\n",
    "        # Wait for username/password inputs\n",
    "        wait.until(EC.presence_of_element_located((By.NAME, \"username\")))\n",
    "        wait.until(EC.presence_of_element_located((By.NAME, \"password\")))\n",
    "\n",
    "        # Fill and submit\n",
    "        driver.find_element(By.NAME, \"username\").clear()\n",
    "        driver.find_element(By.NAME, \"username\").send_keys(username)\n",
    "        driver.find_element(By.NAME, \"password\").clear()\n",
    "        driver.find_element(By.NAME, \"password\").send_keys(password)\n",
    "\n",
    "        # Try to submit using an input/button\n",
    "        try:\n",
    "            driver.find_element(By.CSS_SELECTOR, \"input[type='submit'], button[type='submit']\").click()\n",
    "        except Exception:\n",
    "            # fallback: submit the password field form\n",
    "            driver.find_element(By.NAME, \"password\").submit()\n",
    "\n",
    "        # Wait for an element that indicates logged-in state (adjust if needed)\n",
    "        # Common indicators: a \"Logout\" link or username shown in header\n",
    "        try:\n",
    "            wait.until(EC.presence_of_element_located((By.LINK_TEXT, \"Logout\")))\n",
    "            logged_in = True\n",
    "        except Exception:\n",
    "            # If the site uses a different indicator, check for username presence in page\n",
    "            logged_in = username.lower() in driver.page_source.lower()\n",
    "\n",
    "        return driver, logged_in\n",
    "\n",
    "    except Exception as e:\n",
    "        driver.quit()\n",
    "        raise e\n",
    "\n",
    "\n",
    "if __name__ == \"__main__\":\n",
    "    user = os.getenv(\"PV_USERNAME\") or input(\"Username: \")\n",
    "    pwd = os.getenv(\"PV_PASSWORD\") or getpass(\"Password: \")\n",
    "    drv, success = login_pokemon_vortex(user, pwd, headless=False)\n",
    "    if success:\n",
    "        print(\"Login successful.\")\n",
    "    else:\n",
    "        print(\"Login may have failed; inspect page.\")\n",
    "    # keep browser open for manual inspection; close when done\n",
    "    input(\"Press Enter to quit and close browser...\")\n",
    "    drv.quit()\n",
    "# ...existing code..."
   ]
  },
  {
   "cell_type": "code",
   "execution_count": 70,
   "id": "bd4b6eca",
   "metadata": {},
   "outputs": [],
   "source": [
    "import os\n",
    "from getpass import getpass\n",
    "from selenium import webdriver\n",
    "from selenium.webdriver.common.by import By\n",
    "from selenium.webdriver.chrome.service import Service\n",
    "from selenium.webdriver.chrome.options import Options\n",
    "from selenium.webdriver.support.ui import WebDriverWait\n",
    "from selenium.webdriver.support import expected_conditions as EC\n",
    "from webdriver_manager.chrome import ChromeDriverManager\n",
    "from selenium.webdriver.common.keys import Keys\n",
    "from selenium.webdriver.common.action_chains import ActionChains\n",
    "from time import sleep"
   ]
  },
  {
   "cell_type": "code",
   "execution_count": 9,
   "id": "c935c148",
   "metadata": {},
   "outputs": [],
   "source": [
    "options = Options()\n",
    "service = Service(ChromeDriverManager().install())\n",
    "driver = webdriver.Chrome(service=service, options=options)\n",
    "wait = WebDriverWait(driver, 20)"
   ]
  },
  {
   "cell_type": "code",
   "execution_count": 13,
   "id": "04228639",
   "metadata": {},
   "outputs": [],
   "source": [
    "driver.get(\"https://www.pokemon-vortex.com/login.php\")"
   ]
  },
  {
   "cell_type": "code",
   "execution_count": 14,
   "id": "87d95ea8",
   "metadata": {},
   "outputs": [
    {
     "data": {
      "text/plain": [
       "<selenium.webdriver.remote.webelement.WebElement (session=\"d98da765145056ff3c48cd0d1a822ce0\", element=\"f.E2A6D973D846B1831BACC52737D4B98C.d.6C6C4D2FD4C00907CE59690D762D2631.e.2058\")>"
      ]
     },
     "execution_count": 14,
     "metadata": {},
     "output_type": "execute_result"
    }
   ],
   "source": [
    "# Wait for username/password inputs\n",
    "wait.until(EC.presence_of_element_located((By.ID, \"myusername\")))\n",
    "wait.until(EC.presence_of_element_located((By.ID, \"mypassword\")))"
   ]
  },
  {
   "cell_type": "code",
   "execution_count": 15,
   "id": "be0777e9",
   "metadata": {},
   "outputs": [],
   "source": [
    "driver.find_element(By.ID, \"myusername\").clear()\n",
    "driver.find_element(By.ID, \"myusername\").send_keys('shahg2')"
   ]
  },
  {
   "cell_type": "code",
   "execution_count": 18,
   "id": "7e0f928f",
   "metadata": {},
   "outputs": [],
   "source": [
    "driver.find_element(By.ID, \"mypassword\").clear()\n",
    "driver.find_element(By.ID, \"mypassword\").send_keys('''Googly.'123''')"
   ]
  },
  {
   "cell_type": "code",
   "execution_count": 19,
   "id": "6ad3846e",
   "metadata": {},
   "outputs": [],
   "source": [
    "driver.find_element(By.CSS_SELECTOR, \"input[type='submit'], button[type='submit']\").click()"
   ]
  },
  {
   "cell_type": "code",
   "execution_count": 22,
   "id": "2ab20f1a",
   "metadata": {},
   "outputs": [],
   "source": [
    "driver.find_element(By.XPATH, '/html/body/div[1]/div[2]/nav/ul/li[1]/a').click()"
   ]
  },
  {
   "cell_type": "code",
   "execution_count": 62,
   "id": "25bd95aa",
   "metadata": {},
   "outputs": [],
   "source": [
    "vortex_map = driver.find_element(By.ID, 'mapapp')\n",
    "canvas = driver.find_element(By.CSS_SELECTOR, \"#mapapp > canvas\")"
   ]
  },
  {
   "cell_type": "code",
   "execution_count": 89,
   "id": "14235ba1",
   "metadata": {},
   "outputs": [],
   "source": [
    "x= 0\n",
    "while x<10:\n",
    "    action = ActionChains(driver)\n",
    "\n",
    "    action.move_to_element(canvas).perform()\n",
    "\n",
    "    action.click_and_hold().perform()\n",
    "    action.move_by_offset(100,0).perform()\n",
    "    sleep(0.5)\n",
    "    action.release().perform()\n",
    "\n",
    "    sleep(0.5)\n",
    "\n",
    "    action.click_and_hold().perform()\n",
    "    action.move_by_offset(-100,0).perform()\n",
    "    sleep(0.5)\n",
    "    action.release().perform()\n",
    "\n",
    "    x+=1\n"
   ]
  },
  {
   "cell_type": "code",
   "execution_count": null,
   "id": "5c8a2986",
   "metadata": {},
   "outputs": [],
   "source": []
  },
  {
   "cell_type": "code",
   "execution_count": null,
   "id": "f75de881",
   "metadata": {},
   "outputs": [],
   "source": []
  }
 ],
 "metadata": {
  "kernelspec": {
   "display_name": "computer_vision",
   "language": "python",
   "name": "python3"
  },
  "language_info": {
   "codemirror_mode": {
    "name": "ipython",
    "version": 3
   },
   "file_extension": ".py",
   "mimetype": "text/x-python",
   "name": "python",
   "nbconvert_exporter": "python",
   "pygments_lexer": "ipython3",
   "version": "3.13.5"
  }
 },
 "nbformat": 4,
 "nbformat_minor": 5
}
