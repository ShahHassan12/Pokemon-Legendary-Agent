{
 "cells": [
  {
   "cell_type": "code",
   "execution_count": 68,
   "id": "048fa0f2",
   "metadata": {},
   "outputs": [
    {
     "ename": "ModuleNotFoundError",
     "evalue": "No module named 'sleep'",
     "output_type": "error",
     "traceback": [
      "\u001b[31m---------------------------------------------------------------------------\u001b[39m",
      "\u001b[31mModuleNotFoundError\u001b[39m                       Traceback (most recent call last)",
      "\u001b[36mCell\u001b[39m\u001b[36m \u001b[39m\u001b[32mIn[68]\u001b[39m\u001b[32m, line 10\u001b[39m\n\u001b[32m      8\u001b[39m \u001b[38;5;28;01mfrom\u001b[39;00m\u001b[38;5;250m \u001b[39m\u001b[34;01mselenium\u001b[39;00m\u001b[34;01m.\u001b[39;00m\u001b[34;01mwebdriver\u001b[39;00m\u001b[34;01m.\u001b[39;00m\u001b[34;01msupport\u001b[39;00m\u001b[38;5;250m \u001b[39m\u001b[38;5;28;01mimport\u001b[39;00m expected_conditions \u001b[38;5;28;01mas\u001b[39;00m EC\n\u001b[32m      9\u001b[39m \u001b[38;5;28;01mfrom\u001b[39;00m\u001b[38;5;250m \u001b[39m\u001b[34;01mwebdriver_manager\u001b[39;00m\u001b[34;01m.\u001b[39;00m\u001b[34;01mchrome\u001b[39;00m\u001b[38;5;250m \u001b[39m\u001b[38;5;28;01mimport\u001b[39;00m ChromeDriverManager\n\u001b[32m---> \u001b[39m\u001b[32m10\u001b[39m \u001b[38;5;28;01mimport\u001b[39;00m\u001b[38;5;250m \u001b[39m\u001b[34;01msleep\u001b[39;00m\n\u001b[32m     13\u001b[39m \u001b[38;5;28;01mdef\u001b[39;00m\u001b[38;5;250m \u001b[39m\u001b[34mlogin_pokemon_vortex\u001b[39m(username: \u001b[38;5;28mstr\u001b[39m, password: \u001b[38;5;28mstr\u001b[39m, headless: \u001b[38;5;28mbool\u001b[39m = \u001b[38;5;28;01mFalse\u001b[39;00m, timeout: \u001b[38;5;28mint\u001b[39m = \u001b[32m15\u001b[39m):\n\u001b[32m     14\u001b[39m     options = Options()\n",
      "\u001b[31mModuleNotFoundError\u001b[39m: No module named 'sleep'"
     ]
    }
   ],
   "source": [
    "import os\n",
    "from getpass import getpass\n",
    "from selenium import webdriver\n",
    "from selenium.webdriver.common.by import By\n",
    "from selenium.webdriver.chrome.service import Service\n",
    "from selenium.webdriver.chrome.options import Options\n",
    "from selenium.webdriver.support.ui import WebDriverWait\n",
    "from selenium.webdriver.support import expected_conditions as EC\n",
    "from webdriver_manager.chrome import ChromeDriverManager\n",
    "import sleep\n",
    "\n",
    "\n",
    "def login_pokemon_vortex(username: str, password: str, headless: bool = False, timeout: int = 15):\n",
    "    options = Options()\n",
    "    if headless:\n",
    "        options.add_argument(\"--headless=new\")\n",
    "        options.add_argument(\"--disable-gpu\")\n",
    "    options.add_argument(\"--no-sandbox\")\n",
    "    options.add_argument(\"--disable-dev-shm-usage\")\n",
    "\n",
    "    service = Service(ChromeDriverManager().install())\n",
    "    driver = webdriver.Chrome(service=service, options=options)\n",
    "    wait = WebDriverWait(driver, timeout)\n",
    "\n",
    "    try:\n",
    "        # Open login page\n",
    "        driver.get(\"https://www.pokemon-vortex.com/login.php\")\n",
    "\n",
    "        # Wait for username/password inputs\n",
    "        wait.until(EC.presence_of_element_located((By.NAME, \"username\")))\n",
    "        wait.until(EC.presence_of_element_located((By.NAME, \"password\")))\n",
    "\n",
    "        # Fill and submit\n",
    "        driver.find_element(By.NAME, \"username\").clear()\n",
    "        driver.find_element(By.NAME, \"username\").send_keys(username)\n",
    "        driver.find_element(By.NAME, \"password\").clear()\n",
    "        driver.find_element(By.NAME, \"password\").send_keys(password)\n",
    "\n",
    "        # Try to submit using an input/button\n",
    "        try:\n",
    "            driver.find_element(By.CSS_SELECTOR, \"input[type='submit'], button[type='submit']\").click()\n",
    "        except Exception:\n",
    "            # fallback: submit the password field form\n",
    "            driver.find_element(By.NAME, \"password\").submit()\n",
    "\n",
    "        # Wait for an element that indicates logged-in state (adjust if needed)\n",
    "        # Common indicators: a \"Logout\" link or username shown in header\n",
    "        try:\n",
    "            wait.until(EC.presence_of_element_located((By.LINK_TEXT, \"Logout\")))\n",
    "            logged_in = True\n",
    "        except Exception:\n",
    "            # If the site uses a different indicator, check for username presence in page\n",
    "            logged_in = username.lower() in driver.page_source.lower()\n",
    "\n",
    "        return driver, logged_in\n",
    "\n",
    "    except Exception as e:\n",
    "        driver.quit()\n",
    "        raise e\n",
    "\n",
    "\n",
    "if __name__ == \"__main__\":\n",
    "    user = os.getenv(\"PV_USERNAME\") or input(\"Username: \")\n",
    "    pwd = os.getenv(\"PV_PASSWORD\") or getpass(\"Password: \")\n",
    "    drv, success = login_pokemon_vortex(user, pwd, headless=False)\n",
    "    if success:\n",
    "        print(\"Login successful.\")\n",
    "    else:\n",
    "        print(\"Login may have failed; inspect page.\")\n",
    "    # keep browser open for manual inspection; close when done\n",
    "    input(\"Press Enter to quit and close browser...\")\n",
    "    drv.quit()\n",
    "# ...existing code..."
   ]
  },
  {
   "cell_type": "code",
   "execution_count": 48,
   "id": "bd4b6eca",
   "metadata": {},
   "outputs": [],
   "source": [
    "import os\n",
    "from getpass import getpass\n",
    "from selenium import webdriver\n",
    "from selenium.webdriver.common.by import By\n",
    "from selenium.webdriver.chrome.service import Service\n",
    "from selenium.webdriver.chrome.options import Options\n",
    "from selenium.webdriver.support.ui import WebDriverWait\n",
    "from selenium.webdriver.support import expected_conditions as EC\n",
    "from webdriver_manager.chrome import ChromeDriverManager\n",
    "from selenium.webdriver.common.keys import Keys\n",
    "from selenium.webdriver.common.action_chains import ActionChains\n",
    "from time import sleep\n",
    "import pyautogui\n",
    "import requests"
   ]
  },
  {
   "cell_type": "code",
   "execution_count": null,
   "id": "49b45f72",
   "metadata": {},
   "outputs": [],
   "source": [
    "options = Options()\n",
    "service = Service(ChromeDriverManager().install())\n",
    "driver = webdriver.Chrome(service=service, options=options)\n",
    "driver.get('https://wiki.pokemon-vortex.com/wiki/Bulbasaur')"
   ]
  },
  {
   "cell_type": "code",
   "execution_count": null,
   "id": "6248d32b",
   "metadata": {},
   "outputs": [],
   "source": [
    "#section-collapsible-0 > div:nth-child(2) > table > tbody > tr:nth-child(2) > td > span:nth-child(1) > a"
   ]
  },
  {
   "cell_type": "code",
   "execution_count": null,
   "id": "ce31a927",
   "metadata": {},
   "outputs": [],
   "source": [
    "pokedex = {}"
   ]
  },
  {
   "cell_type": "code",
   "execution_count": 42,
   "id": "6f48e145",
   "metadata": {},
   "outputs": [],
   "source": [
    "pokemon = driver.find_element(By.CSS_SELECTOR, \"#firstHeading > span\").text"
   ]
  },
  {
   "cell_type": "code",
   "execution_count": 46,
   "id": "53fd8fa1",
   "metadata": {},
   "outputs": [],
   "source": [
    "poke_icon_link = driver.find_element(By.CSS_SELECTOR, \"#section-collapsible-0 > div:nth-child(2) > table > tbody > tr:nth-child(2) > td > span:nth-child(1) > a > img\").get_attribute(\"src\")"
   ]
  },
  {
   "cell_type": "code",
   "execution_count": 50,
   "id": "153eda76",
   "metadata": {},
   "outputs": [],
   "source": [
    "response = requests.get(poke_icon_link)\n",
    "\n",
    "if response.status_code == 200:\n",
    "    with open(f\"Pokemon Icons/{pokemon}.png\", \"wb\") as f:\n",
    "        f.write(response.content)\n",
    "else:\n",
    "    print(\"No icon found.\")"
   ]
  },
  {
   "cell_type": "code",
   "execution_count": 43,
   "id": "1876ff4f",
   "metadata": {},
   "outputs": [
    {
     "data": {
      "text/plain": [
       "'Bulbasaur'"
      ]
     },
     "execution_count": 43,
     "metadata": {},
     "output_type": "execute_result"
    }
   ],
   "source": [
    "pokemon"
   ]
  },
  {
   "cell_type": "code",
   "execution_count": null,
   "id": "dde90756",
   "metadata": {},
   "outputs": [],
   "source": []
  },
  {
   "cell_type": "code",
   "execution_count": null,
   "id": "af0e1103",
   "metadata": {},
   "outputs": [],
   "source": [
    "#Function to download all the pokemon icons and save it locally to appropriate folder\n",
    "\n",
    "def download_pokemon_icons():\n",
    "    \n",
    "    options = Options()\n",
    "    service = Service(ChromeDriverManager().install())\n",
    "    driver = webdriver.Chrome(service=service, options=options)\n",
    "    wait = WebDriverWait(driver, 20)\n",
    "\n",
    "    pokemon = ''    \n",
    "\n",
    "    while not pokemon == 'Missingno': #The last pokemon in the pokedex is Missingno\n",
    "        driver.get(f'https://wiki.pokemon-vortex.com/wiki/Missingno/{pokemon}')\n",
    "        \n",
    "        wait.until(EC.presence_of_element_located((By.CSS_SELECTOR, \"#pokedexinfo > div.pokedexinfoleft > h2\")))\n",
    "        pokemon = driver.find_element(By.CSS_SELECTOR, \"#pokedexinfo > div.pokedexinfoleft > h2\").text.split('#')[1].strip()\n",
    "        \n",
    "        icon_url = driver.find_element(By.CSS_SELECTOR, \"#pokedexinfo > div.pokedexinfoleft > img\").get_attribute('src')\n",
    "        \n",
    "        folder_path = os.path.join('pokemon_icons', pokemon)\n",
    "        os.makedirs(folder_path, exist_ok=True)\n",
    "        \n",
    "        icon_data = driver.get(icon_url).content\n",
    "        with open(os.path.join(folder_path, f'{pokemon}_icon.png'), 'wb') as f:\n",
    "            f.write(icon_data)\n",
    "        \n",
    "        print(f'Downloaded icon for {pokemon}')\n"
   ]
  },
  {
   "cell_type": "code",
   "execution_count": 2,
   "id": "c935c148",
   "metadata": {},
   "outputs": [],
   "source": [
    "options = Options()\n",
    "service = Service(ChromeDriverManager().install())\n",
    "driver = webdriver.Chrome(service=service, options=options)\n",
    "wait = WebDriverWait(driver, 20)"
   ]
  },
  {
   "cell_type": "code",
   "execution_count": 3,
   "id": "04228639",
   "metadata": {},
   "outputs": [],
   "source": [
    "driver.get(\"https://www.pokemon-vortex.com/login.php\")"
   ]
  },
  {
   "cell_type": "code",
   "execution_count": 4,
   "id": "87d95ea8",
   "metadata": {},
   "outputs": [
    {
     "data": {
      "text/plain": [
       "<selenium.webdriver.remote.webelement.WebElement (session=\"ab70004a86d2ed7aa09856b8651632ea\", element=\"f.24A11745FD050F1E172CC2F12000C3FD.d.0AA0803FFD4A4F26F65D89D9CE29F594.e.6\")>"
      ]
     },
     "execution_count": 4,
     "metadata": {},
     "output_type": "execute_result"
    }
   ],
   "source": [
    "# Wait for username/password inputs\n",
    "wait.until(EC.presence_of_element_located((By.ID, \"myusername\")))\n",
    "wait.until(EC.presence_of_element_located((By.ID, \"mypassword\")))"
   ]
  },
  {
   "cell_type": "code",
   "execution_count": 38,
   "id": "be0777e9",
   "metadata": {},
   "outputs": [
    {
     "ename": "InvalidSessionIdException",
     "evalue": "Message: invalid session id: session deleted as the browser has closed the connection\nfrom disconnected: not connected to DevTools\n  (Session info: chrome=141.0.7390.77); For documentation on this error, please visit: https://www.selenium.dev/documentation/webdriver/troubleshooting/errors#invalidsessionidexception\nStacktrace:\n\tGetHandleVerifier [0x0x3efe83+66515]\n\tGetHandleVerifier [0x0x3efec4+66580]\n\t(No symbol) [0x0x1ddc48]\n\t(No symbol) [0x0x1cce80]\n\t(No symbol) [0x0x1eb81b]\n\t(No symbol) [0x0x251c25]\n\t(No symbol) [0x0x26c4d9]\n\t(No symbol) [0x0x24afc6]\n\t(No symbol) [0x0x21c2ca]\n\t(No symbol) [0x0x21d154]\n\tGetHandleVerifier [0x0x6473b3+2521347]\n\tGetHandleVerifier [0x0x642333+2500739]\n\tGetHandleVerifier [0x0x417cd4+229924]\n\tGetHandleVerifier [0x0x408238+165768]\n\tGetHandleVerifier [0x0x40eced+193085]\n\tGetHandleVerifier [0x0x3f8198+100072]\n\tGetHandleVerifier [0x0x3f8330+100480]\n\tGetHandleVerifier [0x0x3e25ea+11066]\n\tBaseThreadInitThunk [0x0x765bfcc9+25]\n\tRtlGetAppContainerNamedObjectPath [0x0x77d782ae+286]\n\tRtlGetAppContainerNamedObjectPath [0x0x77d7827e+238]\n",
     "output_type": "error",
     "traceback": [
      "\u001b[31m---------------------------------------------------------------------------\u001b[39m",
      "\u001b[31mInvalidSessionIdException\u001b[39m                 Traceback (most recent call last)",
      "\u001b[36mCell\u001b[39m\u001b[36m \u001b[39m\u001b[32mIn[38]\u001b[39m\u001b[32m, line 1\u001b[39m\n\u001b[32m----> \u001b[39m\u001b[32m1\u001b[39m \u001b[43mdriver\u001b[49m\u001b[43m.\u001b[49m\u001b[43mfind_element\u001b[49m\u001b[43m(\u001b[49m\u001b[43mBy\u001b[49m\u001b[43m.\u001b[49m\u001b[43mID\u001b[49m\u001b[43m,\u001b[49m\u001b[43m \u001b[49m\u001b[33;43m\"\u001b[39;49m\u001b[33;43mmyusername\u001b[39;49m\u001b[33;43m\"\u001b[39;49m\u001b[43m)\u001b[49m.clear()\n\u001b[32m      2\u001b[39m driver.find_element(By.ID, \u001b[33m\"\u001b[39m\u001b[33mmyusername\u001b[39m\u001b[33m\"\u001b[39m).send_keys(\u001b[33m'\u001b[39m\u001b[33mshahg2\u001b[39m\u001b[33m'\u001b[39m)\n",
      "\u001b[36mFile \u001b[39m\u001b[32md:\\Projects\\pokemon_legendary_agent\\computer_vision\\Lib\\site-packages\\selenium\\webdriver\\remote\\webdriver.py:926\u001b[39m, in \u001b[36mWebDriver.find_element\u001b[39m\u001b[34m(self, by, value)\u001b[39m\n\u001b[32m    923\u001b[39m         \u001b[38;5;28;01mraise\u001b[39;00m NoSuchElementException(\u001b[33mf\u001b[39m\u001b[33m\"\u001b[39m\u001b[33mCannot locate relative element with: \u001b[39m\u001b[38;5;132;01m{\u001b[39;00mby.root\u001b[38;5;132;01m}\u001b[39;00m\u001b[33m\"\u001b[39m)\n\u001b[32m    924\u001b[39m     \u001b[38;5;28;01mreturn\u001b[39;00m elements[\u001b[32m0\u001b[39m]\n\u001b[32m--> \u001b[39m\u001b[32m926\u001b[39m \u001b[38;5;28;01mreturn\u001b[39;00m \u001b[38;5;28;43mself\u001b[39;49m\u001b[43m.\u001b[49m\u001b[43mexecute\u001b[49m\u001b[43m(\u001b[49m\u001b[43mCommand\u001b[49m\u001b[43m.\u001b[49m\u001b[43mFIND_ELEMENT\u001b[49m\u001b[43m,\u001b[49m\u001b[43m \u001b[49m\u001b[43m{\u001b[49m\u001b[33;43m\"\u001b[39;49m\u001b[33;43musing\u001b[39;49m\u001b[33;43m\"\u001b[39;49m\u001b[43m:\u001b[49m\u001b[43m \u001b[49m\u001b[43mby\u001b[49m\u001b[43m,\u001b[49m\u001b[43m \u001b[49m\u001b[33;43m\"\u001b[39;49m\u001b[33;43mvalue\u001b[39;49m\u001b[33;43m\"\u001b[39;49m\u001b[43m:\u001b[49m\u001b[43m \u001b[49m\u001b[43mvalue\u001b[49m\u001b[43m}\u001b[49m\u001b[43m)\u001b[49m[\u001b[33m\"\u001b[39m\u001b[33mvalue\u001b[39m\u001b[33m\"\u001b[39m]\n",
      "\u001b[36mFile \u001b[39m\u001b[32md:\\Projects\\pokemon_legendary_agent\\computer_vision\\Lib\\site-packages\\selenium\\webdriver\\remote\\webdriver.py:458\u001b[39m, in \u001b[36mWebDriver.execute\u001b[39m\u001b[34m(self, driver_command, params)\u001b[39m\n\u001b[32m    455\u001b[39m response = cast(RemoteConnection, \u001b[38;5;28mself\u001b[39m.command_executor).execute(driver_command, params)\n\u001b[32m    457\u001b[39m \u001b[38;5;28;01mif\u001b[39;00m response:\n\u001b[32m--> \u001b[39m\u001b[32m458\u001b[39m     \u001b[38;5;28;43mself\u001b[39;49m\u001b[43m.\u001b[49m\u001b[43merror_handler\u001b[49m\u001b[43m.\u001b[49m\u001b[43mcheck_response\u001b[49m\u001b[43m(\u001b[49m\u001b[43mresponse\u001b[49m\u001b[43m)\u001b[49m\n\u001b[32m    459\u001b[39m     response[\u001b[33m\"\u001b[39m\u001b[33mvalue\u001b[39m\u001b[33m\"\u001b[39m] = \u001b[38;5;28mself\u001b[39m._unwrap_value(response.get(\u001b[33m\"\u001b[39m\u001b[33mvalue\u001b[39m\u001b[33m\"\u001b[39m, \u001b[38;5;28;01mNone\u001b[39;00m))\n\u001b[32m    460\u001b[39m     \u001b[38;5;28;01mreturn\u001b[39;00m response\n",
      "\u001b[36mFile \u001b[39m\u001b[32md:\\Projects\\pokemon_legendary_agent\\computer_vision\\Lib\\site-packages\\selenium\\webdriver\\remote\\errorhandler.py:232\u001b[39m, in \u001b[36mErrorHandler.check_response\u001b[39m\u001b[34m(self, response)\u001b[39m\n\u001b[32m    230\u001b[39m         alert_text = value[\u001b[33m\"\u001b[39m\u001b[33malert\u001b[39m\u001b[33m\"\u001b[39m].get(\u001b[33m\"\u001b[39m\u001b[33mtext\u001b[39m\u001b[33m\"\u001b[39m)\n\u001b[32m    231\u001b[39m     \u001b[38;5;28;01mraise\u001b[39;00m exception_class(message, screen, stacktrace, alert_text)  \u001b[38;5;66;03m# type: ignore[call-arg]  # mypy is not smart enough here\u001b[39;00m\n\u001b[32m--> \u001b[39m\u001b[32m232\u001b[39m \u001b[38;5;28;01mraise\u001b[39;00m exception_class(message, screen, stacktrace)\n",
      "\u001b[31mInvalidSessionIdException\u001b[39m: Message: invalid session id: session deleted as the browser has closed the connection\nfrom disconnected: not connected to DevTools\n  (Session info: chrome=141.0.7390.77); For documentation on this error, please visit: https://www.selenium.dev/documentation/webdriver/troubleshooting/errors#invalidsessionidexception\nStacktrace:\n\tGetHandleVerifier [0x0x3efe83+66515]\n\tGetHandleVerifier [0x0x3efec4+66580]\n\t(No symbol) [0x0x1ddc48]\n\t(No symbol) [0x0x1cce80]\n\t(No symbol) [0x0x1eb81b]\n\t(No symbol) [0x0x251c25]\n\t(No symbol) [0x0x26c4d9]\n\t(No symbol) [0x0x24afc6]\n\t(No symbol) [0x0x21c2ca]\n\t(No symbol) [0x0x21d154]\n\tGetHandleVerifier [0x0x6473b3+2521347]\n\tGetHandleVerifier [0x0x642333+2500739]\n\tGetHandleVerifier [0x0x417cd4+229924]\n\tGetHandleVerifier [0x0x408238+165768]\n\tGetHandleVerifier [0x0x40eced+193085]\n\tGetHandleVerifier [0x0x3f8198+100072]\n\tGetHandleVerifier [0x0x3f8330+100480]\n\tGetHandleVerifier [0x0x3e25ea+11066]\n\tBaseThreadInitThunk [0x0x765bfcc9+25]\n\tRtlGetAppContainerNamedObjectPath [0x0x77d782ae+286]\n\tRtlGetAppContainerNamedObjectPath [0x0x77d7827e+238]\n"
     ]
    }
   ],
   "source": [
    "driver.find_element(By.ID, \"myusername\").clear()\n",
    "driver.find_element(By.ID, \"myusername\").send_keys('shahg2')"
   ]
  },
  {
   "cell_type": "code",
   "execution_count": 6,
   "id": "7e0f928f",
   "metadata": {},
   "outputs": [],
   "source": [
    "driver.find_element(By.ID, \"mypassword\").clear()\n",
    "driver.find_element(By.ID, \"mypassword\").send_keys('''Googly.'123''')"
   ]
  },
  {
   "cell_type": "code",
   "execution_count": 7,
   "id": "6ad3846e",
   "metadata": {},
   "outputs": [],
   "source": [
    "driver.find_element(By.CSS_SELECTOR, \"input[type='submit'], button[type='submit']\").click()"
   ]
  },
  {
   "cell_type": "code",
   "execution_count": 8,
   "id": "2ab20f1a",
   "metadata": {},
   "outputs": [],
   "source": [
    "driver.find_element(By.XPATH, '/html/body/div[1]/div[2]/nav/ul/li[1]/a').click()"
   ]
  },
  {
   "cell_type": "code",
   "execution_count": 36,
   "id": "25bd95aa",
   "metadata": {},
   "outputs": [],
   "source": [
    "vortex_map = driver.find_element(By.ID, 'mapapp')\n",
    "canvas = driver.find_element(By.CSS_SELECTOR, \"#mapapp > canvas\")"
   ]
  },
  {
   "cell_type": "code",
   "execution_count": 37,
   "id": "14235ba1",
   "metadata": {},
   "outputs": [],
   "source": [
    "# Function to automate character movement on map\n",
    "x= 0\n",
    "while x<10:\n",
    "    action = ActionChains(driver)\n",
    "\n",
    "    action.move_to_element(canvas).perform()\n",
    "\n",
    "    action.click_and_hold().perform()\n",
    "    action.move_by_offset(100,0).perform()\n",
    "    sleep(0.5)\n",
    "    action.release().perform()\n",
    "\n",
    "    sleep(0.5)\n",
    "\n",
    "    action.click_and_hold().perform()\n",
    "    action.move_by_offset(-100,0).perform()\n",
    "    sleep(0.5)\n",
    "    action.release().perform()\n",
    "\n",
    "    x+=1\n"
   ]
  },
  {
   "cell_type": "code",
   "execution_count": 31,
   "id": "4512b906",
   "metadata": {},
   "outputs": [],
   "source": [
    "canvas = driver.find_element(By.CSS_SELECTOR, \"#mapapp > canvas\")\n",
    "ActionChains(driver).click(canvas).perform()\n",
    "pyautogui.press('down')"
   ]
  },
  {
   "cell_type": "code",
   "execution_count": 35,
   "id": "a0487053",
   "metadata": {},
   "outputs": [],
   "source": [
    "# Move mouse to the map canvas and perform click-and-drag actions to simulate movement\n",
    "action = ActionChains(driver)\n",
    "action.move_to_element(canvas).perform()\n",
    "action.click_and_hold().perform()\n",
    "pyautogui.press('down')"
   ]
  },
  {
   "cell_type": "code",
   "execution_count": 21,
   "id": "c3df8cad",
   "metadata": {},
   "outputs": [],
   "source": [
    "pyautogui.press('down')"
   ]
  },
  {
   "cell_type": "code",
   "execution_count": 10,
   "id": "f75de881",
   "metadata": {},
   "outputs": [],
   "source": [
    "screen = pyautogui.screenshot('FullScreenshot.png')"
   ]
  },
  {
   "cell_type": "code",
   "execution_count": null,
   "id": "58757727",
   "metadata": {},
   "outputs": [],
   "source": []
  }
 ],
 "metadata": {
  "kernelspec": {
   "display_name": "computer_vision",
   "language": "python",
   "name": "python3"
  },
  "language_info": {
   "codemirror_mode": {
    "name": "ipython",
    "version": 3
   },
   "file_extension": ".py",
   "mimetype": "text/x-python",
   "name": "python",
   "nbconvert_exporter": "python",
   "pygments_lexer": "ipython3",
   "version": "3.13.5"
  }
 },
 "nbformat": 4,
 "nbformat_minor": 5
}
